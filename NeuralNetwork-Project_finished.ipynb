{
 "cells": [
  {
   "cell_type": "markdown",
   "id": "a02346a9-ef61-4339-b276-b82a8a9a57d4",
   "metadata": {},
   "source": [
    "## Artificial Neural Network Implementation with Matrix Data structure  \n",
    "(using numpy module)  "
   ]
  },
  {
   "cell_type": "markdown",
   "id": "7611fa1e-1b21-4cfc-898a-cd79a05b4614",
   "metadata": {},
   "source": [
    "Reference:  \n",
    "https://www.analyticsvidhya.com/blog/2020/07/neural-networks-from-scratch-in-python-and-r/"
   ]
  },
  {
   "cell_type": "markdown",
   "id": "772ff317-a845-41fb-8501-3dc2a2d2edf6",
   "metadata": {},
   "source": [
    "**import csv** or **import pandas as pd**  \n",
    "ในที่นี่จะใช้ csv module เพื่อดึงข้อมูลเข้ามาใส่ใน array ของ numpy module"
   ]
  },
  {
   "cell_type": "code",
   "execution_count": 1,
   "id": "3f7adef1-817e-4430-a670-8527a4fd93b7",
   "metadata": {},
   "outputs": [
    {
     "name": "stdout",
     "output_type": "stream",
     "text": [
      "Example of rawdata[  0]: ['3.6216' '8.6661' '-2.8073' '-0.44699' '0']\n",
      "Example of rawdata[  1]: ['4.5459' '8.1674' '-2.4586' '-1.4621' '0']\n",
      "         :           :                    :  \n",
      "Example of rawdata[1370]: ['-3.5637' '-8.3827' '12.393' '-1.2823' '1']\n",
      "Example of rawdata[1371]: ['-2.5419' '-0.65804' '2.6842' '1.1952' '1']\n",
      "Number of rawdata: 1372\n"
     ]
    }
   ],
   "source": [
    "import csv\n",
    "import numpy as np\n",
    "with open('data_banknote_authentication.csv') as Data_file:\n",
    "    Data_list = csv.reader(Data_file)\n",
    "    Data = [Data for Data in Data_list]\n",
    "Rawdata_array = np.asarray(Data)\n",
    "\n",
    "#ลองพิมพ์ตัวอย่างของข้อมูลที่โหลดเข้ามาเพื่อการตรวจสอบ\n",
    "print(\"Example of rawdata[{0:3d}]: {1}\".format(0,Rawdata_array[0]))\n",
    "print(\"Example of rawdata[{0:3d}]: {1}\".format(1,Rawdata_array[1]))\n",
    "print(\"         :           :                    :  \")\n",
    "print(\"Example of rawdata[{0:3d}]: {1}\".format(len(Rawdata_array)-2,Rawdata_array[-2]))\n",
    "print(\"Example of rawdata[{0:3d}]: {1}\".format(len(Rawdata_array)-1,Rawdata_array[-1]))\n",
    "print(\"Number of rawdata:\", len(Rawdata_array))"
   ]
  },
  {
   "cell_type": "code",
   "execution_count": 2,
   "id": "9face3e0-ebde-4e5b-a5d0-6b80e0bd2733",
   "metadata": {
    "scrolled": true
   },
   "outputs": [
    {
     "name": "stdout",
     "output_type": "stream",
     "text": [
      "Example of Input[  0]: [ 3.6216   8.6661  -2.8073  -0.44699]\n",
      "Example of Input[  1]: [ 4.5459  8.1674 -2.4586 -1.4621]\n",
      "         :         :              :  \n",
      "Example of Input[1370]: [-3.5637 -8.3827 12.393  -1.2823]\n",
      "Example of Input[1371]: [-2.5419  -0.65804  2.6842   1.1952 ]\n",
      "Shape of Input:  (1372, 4)\n",
      "\n",
      "Example of Target[  0]: 0\n",
      "Example of Target[  1]: 0\n",
      "         :      :           :  \n",
      "Example of Target[1370]: 1\n",
      "Example of Target[1371]: 1\n",
      "Number of Target: 1372\n"
     ]
    }
   ],
   "source": [
    "Input_array = np.zeros((len(Rawdata_array),len(Rawdata_array[0])-1),dtype = 'f')\n",
    "Target_list = list()\n",
    "for i in range(len(Rawdata_array)):\n",
    "        Input_array[i] = np.array(Rawdata_array[i][0:len(Rawdata_array[i])-1],dtype = 'f')\n",
    "        Target_list.append(Rawdata_array[i][-1])\n",
    "        \n",
    "#ลองพิมพ์ทั้งส่วนที่เป็น feature และ target เพื่อการตรวจสอบ\n",
    "print(\"Example of Input[{0:3d}]: {1}\".format(0,Input_array[0]))\n",
    "print(\"Example of Input[{0:3d}]: {1}\".format(1,Input_array[1]))\n",
    "print(\"         :         :              :  \")\n",
    "print(\"Example of Input[{0:3d}]: {1}\".format(len(Input_array)-2,Input_array[-2]))\n",
    "print(\"Example of Input[{0:3d}]: {1}\".format(len(Input_array)-1,Input_array[-1]))\n",
    "print(\"Shape of Input: \",Input_array.shape)\n",
    "\n",
    "print(\"\\nExample of Target[{0:3d}]: {1}\".format(0,Target_list[0]))\n",
    "print(\"Example of Target[{0:3d}]: {1}\".format(1,Target_list[1]))\n",
    "print(\"         :      :           :  \")\n",
    "print(\"Example of Target[{0:3d}]: {1}\".format(len(Target_list)-2,Target_list[-2]))\n",
    "print(\"Example of Target[{0:3d}]: {1}\".format(len(Target_list)-1,Target_list[-1]))\n",
    "print(\"Number of Target:\", len(Target_list))"
   ]
  },
  {
   "cell_type": "code",
   "execution_count": 3,
   "id": "a57b96ef-57fb-4bef-9a96-22ff62581638",
   "metadata": {},
   "outputs": [
    {
     "name": "stdout",
     "output_type": "stream",
     "text": [
      "Shape of Cleaned Input: (1372, 4)\n"
     ]
    }
   ],
   "source": [
    "# หากพบว่ามีข้อมูลที่ว่างเปล่าอยู่จึงทำการลบทิ้ง เช่น\n",
    "# Input_array = np.delete(Input_array,1372,0)\n",
    "print(\"Shape of Cleaned Input:\", Input_array.shape)\n",
    "NumData, NumInput = Input_array.shape"
   ]
  },
  {
   "cell_type": "code",
   "execution_count": 4,
   "id": "ae488127-99b0-468b-bbb5-eea556f0313e",
   "metadata": {
    "scrolled": true
   },
   "outputs": [
    {
     "name": "stdout",
     "output_type": "stream",
     "text": [
      "2\n"
     ]
    }
   ],
   "source": [
    "#targetอาจจะมาในรูปของ text เลยต้องแปลงให้กลายเป็นตัวเลข หรือ เข็คจำนวนของ class\n",
    "Class = list(set(Target_list))\n",
    "NumOutput = len(Class) #กำหนดให้ Numoutput แสดงจำนวนของ class\n",
    "print(NumOutput)"
   ]
  },
  {
   "cell_type": "code",
   "execution_count": 5,
   "id": "e792c532-018f-4c90-bbf4-0c4970119c23",
   "metadata": {},
   "outputs": [
    {
     "name": "stdout",
     "output_type": "stream",
     "text": [
      "[[1 0]\n",
      " [1 0]\n",
      " [1 0]\n",
      " ...\n",
      " [0 1]\n",
      " [0 1]\n",
      " [0 1]]\n"
     ]
    }
   ],
   "source": [
    "#output ถ้าหากได้รับข้อมูลที่ label มาเป็น character เช่น True/False ให้เปลี่ยนเป็น integer เช่น 1/0\n",
    "#ปรับให้อยู่ในรูปนี้ class1 = 0 1, class2 = 1 0\n",
    "Target_array = np.zeros((NumData,NumOutput),dtype='i') \n",
    "for i in range(NumData):\n",
    "    Target_array[i][Class.index(Target_list[i])] = 1\n",
    "    \n",
    "\n",
    "print(Target_array) \n",
    "    "
   ]
  },
  {
   "cell_type": "markdown",
   "id": "aa1283de-30f9-45dc-bfdf-516914e04223",
   "metadata": {},
   "source": [
    "### Devided trian set และ test set    "
   ]
  },
  {
   "cell_type": "code",
   "execution_count": 6,
   "id": "a7c08e48-5c04-4f52-86d9-c88fd0dd442f",
   "metadata": {},
   "outputs": [
    {
     "name": "stdout",
     "output_type": "stream",
     "text": [
      "Number of Train data:  1029\n",
      "Number of Test data:  343\n"
     ]
    }
   ],
   "source": [
    "#ตัวอย่างเช่น มีข้อมูลที่ถูกเรียงลำดับแล้ว มีอยู่ 2 class classละ 761 และ 610 ตัวอย่าง แบ่งเป็น 4 fold-crossvalidation\n",
    "#เพราะฉะนั้น train set = 1029 ตัว  และ test set = 343 ตัว\n",
    "#เราจะทำการ train และ test ทั้งหมด 4 รอบ แล้วหาค่าเฉลี่ยความแม่นยำ\n",
    "# รอบแรก (round 1) จะใช้ข้อมูล fold 1, 2, 3 เป็น train set และ ใช้ fold 4 เป็น test set\n",
    "# จำนวนของ train data  = 3*Numdata/4\n",
    "# จำนวน test data = Numdata/4\n",
    "Input_Train = np.zeros((1029,4),dtype='f')\n",
    "Input_Test = np.zeros((343,4),dtype='f')\n",
    "Target_Train = np.zeros((1029,2),dtype='i')\n",
    "Target_Test = np.zeros((343,2),dtype='i')\n",
    "\n",
    "NumTest = 0\n",
    "NumTrain = 0\n",
    "for i in range(NumData):\n",
    "    #round 1 fold 1,2,3 เป็น train set และ fold 4 เป็น test set\n",
    "    if (i%4) == 3:\n",
    "        Input_Test[NumTest] = Input_array[i]\n",
    "        Target_Test[NumTest] = Target_array[i]\n",
    "        NumTest += 1\n",
    "    else:\n",
    "        Input_Train[NumTrain] = Input_array[i]\n",
    "        Target_Train[NumTrain] = Target_array[i]\n",
    "        NumTrain += 1\n",
    "print('Number of Train data: ',NumTrain)\n",
    "print('Number of Test data: ',NumTest)"
   ]
  },
  {
   "cell_type": "code",
   "execution_count": 7,
   "id": "27db3518-6ad9-4d95-8026-74f921963151",
   "metadata": {},
   "outputs": [],
   "source": [
    "np.random.seed(14) #ฟังก์ชันสำหรับการสร้างเมล็ดในการสุ่ม(กำหนดตำแหน่งเริ่มต้นของหมายเลขสุ่มซึ่งสามารถกำหนดได้อย่างอิสระ)"
   ]
  },
  {
   "cell_type": "code",
   "execution_count": 8,
   "id": "59449ff3-427f-4722-9963-34eedb8715b4",
   "metadata": {},
   "outputs": [
    {
     "name": "stdout",
     "output_type": "stream",
     "text": [
      "Input in matrix form:\n",
      " [[  3.6216    4.5459    3.866   ...  -1.3887   -3.7503   -3.5637 ]\n",
      " [  8.6661    8.1674   -2.6383  ...  -4.8773  -13.4586   -8.3827 ]\n",
      " [ -2.8073   -2.4586    1.9242  ...   6.4774   17.5932   12.393  ]\n",
      " [ -0.44699  -1.4621    0.10645 ...   0.34179  -2.7771   -1.2823 ]]\n",
      "\n",
      "Shape of Input Matrix: (4, 1029)\n"
     ]
    }
   ],
   "source": [
    "# converting the input in matrix form\n",
    "Input = Input_Train.T\n",
    "print(\"Input in matrix form:\\n\", Input)\n",
    "\n",
    "# shape of input matrix\n",
    "print(\"\\nShape of Input Matrix:\", Input.shape)"
   ]
  },
  {
   "cell_type": "code",
   "execution_count": 9,
   "id": "19962d0e-2f66-44c2-9107-045a18bbef7b",
   "metadata": {},
   "outputs": [
    {
     "name": "stdout",
     "output_type": "stream",
     "text": [
      "\n",
      "Target in matrix form:\n",
      " [[1 1 1 ... 0 0 0]\n",
      " [0 0 0 ... 1 1 1]]\n",
      "\n",
      "Shape of Target: (2, 1029)\n"
     ]
    }
   ],
   "source": [
    "# output in matrix form\n",
    "Target = Target_Train.T\n",
    "\n",
    "print(\"\\nTarget in matrix form:\\n\", Target)\n",
    "\n",
    "# shape of input array\n",
    "print(\"\\nShape of Target:\", Target.shape)"
   ]
  },
  {
   "cell_type": "markdown",
   "id": "14e68c9e-2437-4dbb-b96b-0d1d8122a3d4",
   "metadata": {},
   "source": [
    "----\n",
    "### Defining Hyperparameter of Model  \n",
    "กำหนดขนาดของ ANN, Learning rate, Activate function เช่น\n",
    "* จำนวน Input Unit = จำนวน feature \n",
    "* จำนวน Hidden Layer = 1 ขึ้นไป (เริ่มต้นด้วย 1 หรือ 2) \n",
    "* จำนวน Hidden Unit = ประมาณครึ่งหนี่ง หรือ 2/3 ของจำนวน Input Unit  + จำนวน Output Unit\n",
    "* จำนวน Output Unit = จำนวน class (ในกรณีที่เป็น 2 class สามารถลดลงเหลือ 1 unit ได้)  \n",
    "* Learning Rate = ค่าน้อย ๆ เช่น 0.01 หรือ 0.005 \n",
    "* Activate Function เช่น Sigmoid หรือ ReLu  \n",
    "\n",
    "จากขนาดของ ANN และ Input data จะทำให้เกิด\n",
    "1. Input Matrix เป็น Matrix ที่เกิดจากเอา Input Unit vector มาประกอบกัน ทำให้มีขนาดเป็น จำนวนแถวเป็น จำนวน feature และจำนวนคอลัมภ์เป็น จำนวน observation = No.Input unit x No.Observation  \n",
    "2. Hidden Unit vector = No.Hidden unit x 1  ขึ้นกับว่า มี Hidden Layer กี่ layer ถ้ามีมากกว่า 1 ก็จะมี Hidden vector มากกว่า 1 ตัว\n",
    "3. Output Unit vector = No.Output unit x 1\n",
    "4. Weight Matirx เช่น No.Input Unit x  No.Output Unit หรือใน layer ถัด ๆไป"
   ]
  },
  {
   "cell_type": "code",
   "execution_count": 10,
   "id": "19038039-1bdc-42c2-b2f4-02be0f85d374",
   "metadata": {},
   "outputs": [
    {
     "name": "stdout",
     "output_type": "stream",
     "text": [
      "No.Input Unit:  4\n",
      "No.Hidden Layer:  1\n",
      "No.Hidden Unit:  4\n",
      "No.Output Unit:  2\n"
     ]
    }
   ],
   "source": [
    "#Number of Input Unit = 4\n",
    "#Number of Output Unit = 2\n",
    "#Number of Hidden Layer is 1\n",
    "#Number of Hidden Unit = 2/3 * NumInput + NumOutput\n",
    "NumHidden = 4\n",
    "print(\"No.Input Unit: \",NumInput)\n",
    "print(\"No.Hidden Layer: \", 1)\n",
    "print(\"No.Hidden Unit: \",NumHidden)\n",
    "print(\"No.Output Unit: \",NumOutput)"
   ]
  },
  {
   "cell_type": "markdown",
   "id": "bbe5a4ae-9f5f-4791-bb5d-cf1d76bfdda4",
   "metadata": {},
   "source": [
    "----\n",
    "### Train the model\n",
    "1. กำหนดค่า weight ใน Weight Matrix เร่ิมต้น โดยการ Random ค่าระหว่าง -0.1 ~ 0.1  \n",
    "2. นำ Input vector จาก Input Matrix เข้าสู่กระบวนการ train ทีละ vector โดยทำการเรียงลำดับด้วยการ random หมายความว่า แต่ละรอบใช้ Label ที่ต่าง ๆกัน\n",
    "3. นำ Input vector มา dot กับ Weight Matrix แล้ว มาผ่าน Activate function เพื่อเป็น Output vector (หรือ Hidden unit vector)\n",
    "   e.g. output = sigmoid(dot(w,input + b)  \n",
    "4. ทำทีละ Layer จนกระทั้ง ถึง Output layer\n",
    "5. เมื่อได้ Output แล้วนำมาคำนวณ Error เพื่อนำมาเข้าสู่กระบวนการปรับ weight ด้วย Back propragation algorithm"
   ]
  },
  {
   "cell_type": "code",
   "execution_count": 11,
   "id": "edc5435c-72fc-4187-b746-01bd4bbbc32d",
   "metadata": {},
   "outputs": [
    {
     "data": {
      "text/plain": [
       "((4, 4), (4, 2))"
      ]
     },
     "execution_count": 11,
     "metadata": {},
     "output_type": "execute_result"
    }
   ],
   "source": [
    "# กำหนดค่าเริ่มต้นของ weight ในแต่ละส่วน \n",
    "weights_input_hidden = np.random.uniform(low= -0.1, high = 0.1, size=(NumInput, NumHidden))\n",
    "weights_hidden_output = np.random.uniform(low = -0.1, high = 0.1, size=(NumHidden, NumOutput))\n",
    "# shape of weight matrix\n",
    "weights_input_hidden.shape, weights_hidden_output.shape"
   ]
  },
  {
   "cell_type": "code",
   "execution_count": 12,
   "id": "f6150f58-a721-4803-9c18-9bc3c1f14cbe",
   "metadata": {},
   "outputs": [],
   "source": [
    "# กำหนด Acitvate function ที่จะนำมาใช้\n",
    "def sigmoid(x):\n",
    "    return 1 / (1 + np.exp(-x))"
   ]
  },
  {
   "cell_type": "code",
   "execution_count": 13,
   "id": "03b3db6f-5d86-4b42-94a5-e949b98c0885",
   "metadata": {},
   "outputs": [
    {
     "name": "stdout",
     "output_type": "stream",
     "text": [
      "[ 808  928  682 ...  218 1013   27]\n"
     ]
    }
   ],
   "source": [
    "# random ลำดับของ input ที่จะถูกป้อนเข้า nerual net เพื่อใช้ในการ train\n",
    "Train_seq = np.random.permutation(NumTrain)\n",
    "print(Train_seq)"
   ]
  },
  {
   "cell_type": "code",
   "execution_count": 14,
   "id": "ab8149b4-233d-4810-a890-07917595e861",
   "metadata": {},
   "outputs": [
    {
     "name": "stdout",
     "output_type": "stream",
     "text": [
      "[[-1.6001  ]\n",
      " [-9.5828  ]\n",
      " [ 9.4044  ]\n",
      " [ 0.081882]]\n",
      "(4, 1)\n"
     ]
    }
   ],
   "source": [
    "# เพื่อให้ยังคงเป็น dim = 1 จึงต้อง reshape อีกครั้งแต่ข้อมูลไม่ได้เปลี่ยน\n",
    "print(Input[:,Train_seq[0]].reshape(NumInput,1))\n",
    "print(Input[:,Train_seq[0]].reshape(NumInput,1).shape)"
   ]
  },
  {
   "cell_type": "markdown",
   "id": "af014c82-7509-474a-888d-9143d7c068af",
   "metadata": {},
   "source": [
    "## FeedForward  \n",
    "คือกระบวนการส่ง Information ที่เกิดจากการคำนวณจาก Input Layer ไปยัง Hidden Layer และ ไปยัง Output Layer โดยที่แต่ละ Layer ที่ Neural Node นั้น ๆ ต้องผ่าน Activate function ด้วย   \n",
    "ซึ่งในตัวอย่างนี้จะใช้ sigmoid  เป็น activate function"
   ]
  },
  {
   "cell_type": "markdown",
   "id": "8a618c08-1a13-4be2-9a2f-594ac1bfc920",
   "metadata": {},
   "source": [
    "#### ให้ X  --> input vector และ Y --> target vector\n",
    "#### hidden_layer_input= matrix_dot_product(X,w<sub>h</sub>) + b<sub>h</sub>\n",
    "#### hiddenlayer_activations = sigmoid(hidden_layer_input)"
   ]
  },
  {
   "cell_type": "code",
   "execution_count": 15,
   "id": "6f95b460-e4bb-4861-8c7e-89e797996dff",
   "metadata": {},
   "outputs": [],
   "source": [
    "# at hidden layer\n",
    "# calculate hidden units and activated hidden units\n",
    "Hidden = np.dot(weights_input_hidden.T,Input[:,Train_seq[0]].reshape(NumInput,1))\n",
    "Hidden = sigmoid(Hidden)"
   ]
  },
  {
   "cell_type": "code",
   "execution_count": 16,
   "id": "324c979a-cbc5-4052-8585-7fe85fbd58eb",
   "metadata": {},
   "outputs": [
    {
     "name": "stdout",
     "output_type": "stream",
     "text": [
      "[[0.60696145]\n",
      " [0.18290009]\n",
      " [0.60721178]\n",
      " [0.55088689]]\n",
      "(4, 1)\n"
     ]
    }
   ],
   "source": [
    "print(Hidden)\n",
    "print(Hidden.shape)"
   ]
  },
  {
   "cell_type": "markdown",
   "id": "2a1579f8-5bd9-4697-9895-c16a08d2e838",
   "metadata": {},
   "source": [
    "#### output_layer_input = matrix_dot_product (hiddenlayer_activations, w<sub>out</sub> ) + b<sub>out</sub>\n",
    "#### output = sigmoid(output_layer_input)"
   ]
  },
  {
   "cell_type": "code",
   "execution_count": 17,
   "id": "9180a5b1-ac0f-4902-a84c-2f81327b12af",
   "metadata": {},
   "outputs": [],
   "source": [
    "# at output layer\n",
    "# calculate output units and activated output units\n",
    "Output = np.dot(weights_hidden_output.T,Hidden)\n",
    "Output = sigmoid(Output)"
   ]
  },
  {
   "cell_type": "code",
   "execution_count": 18,
   "id": "38ff951e-92d0-4056-8aa8-4a0e0f68e258",
   "metadata": {},
   "outputs": [
    {
     "name": "stdout",
     "output_type": "stream",
     "text": [
      "[[0.52116525]\n",
      " [0.48606513]]\n",
      "(2, 1)\n"
     ]
    }
   ],
   "source": [
    "print(Output)\n",
    "print(Output.shape)"
   ]
  },
  {
   "cell_type": "markdown",
   "id": "d68a5735-1bab-41a6-a3dd-9a1c5afe939b",
   "metadata": {},
   "source": [
    "### ในขั้นตอนถัดไป คือ Backpropagation alogrithm เพื่อเป้าหมายคือการ การปรับค่า weight ให้ ได้ค่า weight ที่เหมาะสมทำให้ได้ค่า output ใกล้เคียงกับ ค่า Target มากที่สุด\n",
    "โดยจะทำงานย้อนกลับไปที่ละ layer จาก output ย้อนกลับไปหา input"
   ]
  },
  {
   "cell_type": "markdown",
   "id": "c891634e-4c5d-4f1f-9184-aed56fb9bacc",
   "metadata": {},
   "source": [
    "#### ตามปรกติ Error = Y – Output\n",
    "#### หรือคิดเป็น Mean Square Error (MSE) --> Error = ((Y - Output)<sup>2</sup>) /2"
   ]
  },
  {
   "cell_type": "code",
   "execution_count": 19,
   "id": "44db769a-11b2-49d3-9739-9952d41aeffa",
   "metadata": {},
   "outputs": [
    {
     "name": "stdout",
     "output_type": "stream",
     "text": [
      "[[0.13580661]\n",
      " [0.13206453]]\n",
      "(2, 1)\n"
     ]
    }
   ],
   "source": [
    "# at output layer \n",
    "# calculating error\n",
    "Error = (np.square(Target[:,Train_seq[0]].reshape(NumOutput,1) - Output) / 2)\n",
    "print(Error)\n",
    "print(Error.shape)"
   ]
  },
  {
   "cell_type": "code",
   "execution_count": 20,
   "id": "598f568b-73a9-4d1c-9e81-dd45c656bbc1",
   "metadata": {},
   "outputs": [
    {
     "name": "stdout",
     "output_type": "stream",
     "text": [
      "[[ 0.52116525]\n",
      " [-0.51393487]]\n",
      "(2, 1)\n"
     ]
    }
   ],
   "source": [
    "# rate of change of error w.r.t. output\n",
    "# dE/dO\n",
    "Error_wrt_output = -(Target[:,Train_seq[0]].reshape(NumOutput,1) - Output)\n",
    "print(Error_wrt_output)\n",
    "print(Error_wrt_output.shape)"
   ]
  },
  {
   "cell_type": "markdown",
   "id": "a279ae0f-b931-4460-82e4-a5bf3a57525a",
   "metadata": {},
   "source": [
    "![image](back_Output_Hidden_pic.png)"
   ]
  },
  {
   "cell_type": "markdown",
   "id": "5faaf4b1-04ed-42d9-ad23-0838848d7dbc",
   "metadata": {},
   "source": [
    "![image](back_Output_Hidden_equ.png)"
   ]
  },
  {
   "cell_type": "code",
   "execution_count": 21,
   "id": "2a1127f3-cf64-45d7-a1e4-f02d609ca493",
   "metadata": {},
   "outputs": [
    {
     "name": "stdout",
     "output_type": "stream",
     "text": [
      "[[0.24955203]\n",
      " [0.24980582]]\n",
      "(2, 1)\n"
     ]
    }
   ],
   "source": [
    "# rate of change of output w.r.t. Z2\n",
    "# dO/dZ2\n",
    "Output_wrt_outputLayer_LinearTransform = np.multiply(Output, (1 - Output))\n",
    "print(Output_wrt_outputLayer_LinearTransform)\n",
    "print(Output_wrt_outputLayer_LinearTransform.shape)"
   ]
  },
  {
   "cell_type": "code",
   "execution_count": 22,
   "id": "97789aa8-f0c3-440b-97bd-cc1613fa9d08",
   "metadata": {},
   "outputs": [
    {
     "name": "stdout",
     "output_type": "stream",
     "text": [
      "[[0.60696145]\n",
      " [0.18290009]\n",
      " [0.60721178]\n",
      " [0.55088689]]\n",
      "(4, 1)\n"
     ]
    }
   ],
   "source": [
    "# rate of change of Z2 w.r.t. weights between hidden and output layer\n",
    "# dZ2/dWho\n",
    "OutputLayer_LinearTransform_wrt_weights_hidden_output = Hidden\n",
    "print(OutputLayer_LinearTransform_wrt_weights_hidden_output)\n",
    "print(OutputLayer_LinearTransform_wrt_weights_hidden_output.shape)"
   ]
  },
  {
   "cell_type": "code",
   "execution_count": 23,
   "id": "7df5181d-ebd9-4355-aa59-18d4de9a60b5",
   "metadata": {},
   "outputs": [
    {
     "name": "stdout",
     "output_type": "stream",
     "text": [
      "[[ 0.0789401  -0.07792409]\n",
      " [ 0.02378759 -0.02348143]\n",
      " [ 0.07897266 -0.07795623]\n",
      " [ 0.07164716 -0.07072502]]\n",
      "(4, 2)\n"
     ]
    }
   ],
   "source": [
    "# rate of change of error w.r.t weight between hidden and output layer\n",
    "# dE/dWho \n",
    "Error_wrt_weights_hidden_output = np.dot(OutputLayer_LinearTransform_wrt_weights_hidden_output,\n",
    "    (Error_wrt_output * Output_wrt_outputLayer_LinearTransform).T,)\n",
    "print(Error_wrt_weights_hidden_output)\n",
    "print(Error_wrt_weights_hidden_output.shape)"
   ]
  },
  {
   "cell_type": "markdown",
   "id": "4dc3bbcf-23b6-45c3-bf53-b211a9ba12d2",
   "metadata": {},
   "source": [
    "![image](back_Hidden_Input_pic.png)"
   ]
  },
  {
   "cell_type": "markdown",
   "id": "f7163ef7-aa6a-41d5-ab59-50b8520bc14a",
   "metadata": {},
   "source": [
    "![image](back_Hidden_Input_equ.png)"
   ]
  },
  {
   "cell_type": "code",
   "execution_count": 24,
   "id": "d10f7e18-724d-403b-8de8-8d8235c5c8a4",
   "metadata": {},
   "outputs": [
    {
     "name": "stdout",
     "output_type": "stream",
     "text": [
      "[[ 0.52116525]\n",
      " [-0.51393487]]\n",
      "(2, 1)\n"
     ]
    }
   ],
   "source": [
    "# rate of change of error w.r.t. output\n",
    "Error_wrt_output = -(Target[:,Train_seq[0]].reshape(NumOutput,1) - Output)\n",
    "print(Error_wrt_output)\n",
    "print(Error_wrt_output.shape)"
   ]
  },
  {
   "cell_type": "code",
   "execution_count": 25,
   "id": "e60407f1-9ded-4611-93d0-ad4c7757acfc",
   "metadata": {},
   "outputs": [
    {
     "name": "stdout",
     "output_type": "stream",
     "text": [
      "[[0.24955203]\n",
      " [0.24980582]]\n",
      "(2, 1)\n"
     ]
    }
   ],
   "source": [
    "# rate of change of output w.r.t. Z2\n",
    "Output_wrt_outputLayer_LinearTransform = np.multiply(Output, (1 - Output))\n",
    "print(Output_wrt_outputLayer_LinearTransform)\n",
    "print(Output_wrt_outputLayer_LinearTransform.shape)"
   ]
  },
  {
   "cell_type": "code",
   "execution_count": 26,
   "id": "5b7384df-e3ec-47c2-bbd8-9e84599499d9",
   "metadata": {},
   "outputs": [
    {
     "name": "stdout",
     "output_type": "stream",
     "text": [
      "[[ 0.08651152 -0.02515105]\n",
      " [ 0.05048378  0.0526278 ]\n",
      " [ 0.07409989 -0.07797776]\n",
      " [-0.0399816  -0.00501885]]\n",
      "(4, 2)\n"
     ]
    }
   ],
   "source": [
    "# rate of change of Z2 w.r.t. hidden layer activations\n",
    "OutputLayer_LinearTransform_wrt_hiddenLayer_activations = weights_hidden_output\n",
    "print(OutputLayer_LinearTransform_wrt_hiddenLayer_activations)\n",
    "print(OutputLayer_LinearTransform_wrt_hiddenLayer_activations.shape)"
   ]
  },
  {
   "cell_type": "code",
   "execution_count": 27,
   "id": "27c83041-0057-4386-a27f-52d932c9791a",
   "metadata": {},
   "outputs": [
    {
     "name": "stdout",
     "output_type": "stream",
     "text": [
      "[[0.23855925]\n",
      " [0.14944765]\n",
      " [0.23850563]\n",
      " [0.24741052]]\n",
      "(4, 1)\n"
     ]
    }
   ],
   "source": [
    "# rate of change of hidden layer activations w.r.t. Z1\n",
    "HiddenLayer_activations_wrt_hiddenLayer_linearTransform = np.multiply(Hidden, (1 - Hidden))\n",
    "print(HiddenLayer_activations_wrt_hiddenLayer_linearTransform)\n",
    "print(HiddenLayer_activations_wrt_hiddenLayer_linearTransform.shape)"
   ]
  },
  {
   "cell_type": "code",
   "execution_count": 28,
   "id": "0e5703da-a05c-4c11-ae56-01ea4bed85b0",
   "metadata": {},
   "outputs": [
    {
     "name": "stdout",
     "output_type": "stream",
     "text": [
      "[[-1.6001  ]\n",
      " [-9.5828  ]\n",
      " [ 9.4044  ]\n",
      " [ 0.081882]]\n",
      "(4, 1)\n"
     ]
    }
   ],
   "source": [
    "# rate of change of Z1 w.r.t. weights between input and hidden layer\n",
    "HiddenLayer_linearTransform_wrt_weights_input_hidden = Input[:,Train_seq[0]].reshape(NumInput,1)\n",
    "print(HiddenLayer_linearTransform_wrt_weights_input_hidden)\n",
    "print(HiddenLayer_linearTransform_wrt_weights_input_hidden.shape)"
   ]
  },
  {
   "cell_type": "code",
   "execution_count": 29,
   "id": "e87c800c-6e87-41b7-bf2e-f4431445b0f7",
   "metadata": {},
   "outputs": [
    {
     "name": "stdout",
     "output_type": "stream",
     "text": [
      "[[ 0.00278867  0.05463301  0.07408554 -0.09839061]\n",
      " [-0.03805281  0.09152075  0.00262334 -0.03634312]\n",
      " [ 0.00783999 -0.05574901  0.06129627 -0.03154907]\n",
      " [ 0.00777777 -0.09882524  0.0346305  -0.05799515]]\n",
      "(4, 4)\n"
     ]
    }
   ],
   "source": [
    "# shape of weights of hidden layer\n",
    "print(weights_input_hidden)\n",
    "print(weights_input_hidden.shape)"
   ]
  },
  {
   "cell_type": "code",
   "execution_count": 30,
   "id": "0d72bd11-5ea7-4629-bed5-ecea4b7b7f9c",
   "metadata": {},
   "outputs": [
    {
     "name": "stdout",
     "output_type": "stream",
     "text": [
      "[[-5.52747416e-03  4.56145244e-05 -7.49846149e-03  1.80347109e-03]\n",
      " [-3.31033545e-02  2.73179707e-04 -4.49073522e-02  1.08007638e-02]\n",
      " [ 3.24870795e-02 -2.68094005e-04  4.40713258e-02 -1.05996893e-02]\n",
      " [ 2.82857713e-04 -2.33423436e-06  3.83719147e-04 -9.22891171e-05]]\n",
      "(4, 4)\n"
     ]
    }
   ],
   "source": [
    "# rate of change of error w.r.t weights between input and hidden layer\n",
    "Error_wrt_weights_input_hidden = np.dot(\n",
    "    HiddenLayer_linearTransform_wrt_weights_input_hidden,\n",
    "    (\n",
    "        HiddenLayer_activations_wrt_hiddenLayer_linearTransform\n",
    "        * np.dot(OutputLayer_LinearTransform_wrt_hiddenLayer_activations,\n",
    "            (Output_wrt_outputLayer_LinearTransform * Error_wrt_output),\n",
    "        )\n",
    "    ).T,)\n",
    "print(Error_wrt_weights_input_hidden)\n",
    "print(Error_wrt_weights_input_hidden.shape)"
   ]
  },
  {
   "cell_type": "code",
   "execution_count": 31,
   "id": "fa2d02d3-9c88-48fb-8dff-048baa3090b8",
   "metadata": {},
   "outputs": [],
   "source": [
    "# กำหนดค่า learning rate\n",
    "alpha = 0.01"
   ]
  },
  {
   "cell_type": "code",
   "execution_count": 32,
   "id": "0cf327df-4ee8-4e6a-9ce0-6c8e85eb12dd",
   "metadata": {},
   "outputs": [
    {
     "name": "stdout",
     "output_type": "stream",
     "text": [
      "weights_hidden_output: before update\n",
      "[[ 0.08651152 -0.02515105]\n",
      " [ 0.05048378  0.0526278 ]\n",
      " [ 0.07409989 -0.07797776]\n",
      " [-0.0399816  -0.00501885]]\n",
      "\n",
      "weights_hidden_output: updated\n",
      "[[ 0.08572212 -0.02437181]\n",
      " [ 0.05024591  0.05286261]\n",
      " [ 0.07331016 -0.0771982 ]\n",
      " [-0.04069808 -0.0043116 ]]\n"
     ]
    }
   ],
   "source": [
    "# updating the weights of output layer\n",
    "print(\"weights_hidden_output: before update\")\n",
    "print(weights_hidden_output)\n",
    "weights_hidden_output = weights_hidden_output - alpha * Error_wrt_weights_hidden_output\n",
    "print(\"\\nweights_hidden_output: updated\")\n",
    "print(weights_hidden_output)"
   ]
  },
  {
   "cell_type": "code",
   "execution_count": 33,
   "id": "b52ffa20-7b12-493b-b4d8-b46961e80d34",
   "metadata": {
    "scrolled": true
   },
   "outputs": [
    {
     "name": "stdout",
     "output_type": "stream",
     "text": [
      "weights_input_hidden: before update\n",
      "[[ 0.00278867  0.05463301  0.07408554 -0.09839061]\n",
      " [-0.03805281  0.09152075  0.00262334 -0.03634312]\n",
      " [ 0.00783999 -0.05574901  0.06129627 -0.03154907]\n",
      " [ 0.00777777 -0.09882524  0.0346305  -0.05799515]]\n",
      "\n",
      "weights_input_hidden: updated\n",
      "[[ 0.00284394  0.05463255  0.07416052 -0.09840865]\n",
      " [-0.03772178  0.09151802  0.00307242 -0.03645112]\n",
      " [ 0.00751512 -0.05574633  0.06085556 -0.03144308]\n",
      " [ 0.00777494 -0.09882522  0.03462666 -0.05799422]]\n"
     ]
    }
   ],
   "source": [
    "# updating the weights of hidden layer\n",
    "print(\"weights_input_hidden: before update\")\n",
    "print(weights_input_hidden)\n",
    "weights_input_hidden = weights_input_hidden - alpha * Error_wrt_weights_input_hidden\n",
    "print(\"\\nweights_input_hidden: updated\")\n",
    "print(weights_input_hidden)"
   ]
  },
  {
   "cell_type": "markdown",
   "id": "c4ea5f21-bb8c-4734-a65f-a0c4aac81af3",
   "metadata": {},
   "source": [
    "----\n",
    "ขั้นตอนที่ 5 (ต่อ) ทำกระบวนการ Train ต่อไป จนครบทุก pattern แล้วเริ่มทำอีกครั้ง (Random ลำดับการป้อน Input ใหม่) เรียกว่า จบ 1 Epoch หรือ 1 iteration   \n",
    "ทำซ้ำ ๆ อีกหลาย ๆ Epoch/iteration จนกระทั้ง Error (Mean square Error) มีค่าลดลงต่ำที่สุด จึงจบกระบวนการ Train  \n",
    "อาจจะต้องมีการปรับค่าบางอย่างเพื่อทำให้ Neural Network ทำกระบวนการ Train ได้ดีขึ้น เช่น \n",
    "hyperparameter ต่าง ๆ จำนวน Epoch หรือ อาจจะใช้เทคนิคอื่น ๆ เช่น weight decay , momentum (ต้องศึกษาเพิ่มเติม)"
   ]
  },
  {
   "cell_type": "markdown",
   "id": "76ede764",
   "metadata": {},
   "source": [
    "## Fold 4"
   ]
  },
  {
   "cell_type": "code",
   "execution_count": 34,
   "id": "767dd4d0-3b64-450b-9a2f-d84e096768b1",
   "metadata": {},
   "outputs": [
    {
     "name": "stdout",
     "output_type": "stream",
     "text": [
      "Number of Train data:  1029\n",
      "Number of Test data:  343\n"
     ]
    }
   ],
   "source": [
    "# กำหนด Train Set และ Test set\n",
    "NumTest = 0\n",
    "NumTrain = 0\n",
    "for i in range(NumData):\n",
    "    #round 1 fold 1,2,3 เป็น train set และ fold4 เป็น test set\n",
    "    if (i%4) == 3:\n",
    "        Input_Test[NumTest] = Input_array[i]\n",
    "        Target_Test[NumTest] = Target_array[i]\n",
    "        NumTest += 1\n",
    "    else:\n",
    "        Input_Train[NumTrain] = Input_array[i]\n",
    "        Target_Train[NumTrain] = Target_array[i]\n",
    "        NumTrain += 1\n",
    "print('Number of Train data: ',NumTrain)\n",
    "print('Number of Test data: ',NumTest)\n",
    "\n",
    "np.random.seed(14) \n",
    "Input = Input_Train.T\n",
    "Target = Target_Train.T"
   ]
  },
  {
   "cell_type": "code",
   "execution_count": 35,
   "id": "43872230-9b3f-4c9c-9931-db86ebce6cae",
   "metadata": {},
   "outputs": [],
   "source": [
    "# จากข้างต้นทั้งหมด สรุปรวมได้ดังนี้\n",
    "# กำหนดขนาดของ Network\n",
    "NumInput = 4\n",
    "#Number of Hidden Layer = 1\n",
    "NumHidden = 4\n",
    "NumOutput = 2\n",
    "# กำหนดค่าเริ่มต้นของ Weight\n",
    "weights_input_hidden = np.random.uniform(size=(NumInput,NumHidden))\n",
    "weights_hidden_output = np.random.uniform(size=(NumHidden, NumOutput))\n",
    "# กำหนดค่า learning rate\n",
    "alpha = 0.01\n",
    "\n",
    "\n",
    "# กำหนด Acitvate function ที่จะนำมาใช้\n",
    "def sigmoid(x):\n",
    "    return 1 / (1 + np.exp(-x))\n",
    "\n",
    "# กำหนดจำนวน Epoch\n",
    "epochs = 300"
   ]
  },
  {
   "cell_type": "code",
   "execution_count": 36,
   "id": "246125a1-4756-49dc-8293-a3243e79571a",
   "metadata": {},
   "outputs": [
    {
     "name": "stdout",
     "output_type": "stream",
     "text": [
      "Error at epoch 0 is 0.0487046975\n",
      "Error at epoch 60 is 0.0013263881\n",
      "Error at epoch 120 is 0.0021810914\n",
      "Error at epoch 180 is 0.0021318116\n",
      "Error at epoch 240 is 0.0013711443\n"
     ]
    }
   ],
   "source": [
    "losses = []\n",
    "for epoch in range(epochs):\n",
    "    # random ลำดับของ input ที่จะถูกป้อนเข้า nerual net เพื่อใช้ในการ train\n",
    "    Train_seq = np.random.permutation(NumTrain)\n",
    "    \n",
    "    # Start Train\n",
    "    for i in range(NumTrain):\n",
    "    \n",
    "        #########################\n",
    "        ## Forward Propogation ##\n",
    "        #########################\n",
    "        # calculating hidden layer activations\n",
    "        Hidden = np.dot(weights_input_hidden.T,Input[:,Train_seq[i]].reshape(NumInput,1) )\n",
    "        Hidden = sigmoid(Hidden)\n",
    "\n",
    "        # calculating the output\n",
    "        Output = np.dot(weights_hidden_output.T, Hidden)\n",
    "        Output = sigmoid(Output)\n",
    "        \n",
    "        ##########################\n",
    "        ## Backward Propagation ##\n",
    "        ##########################\n",
    "        # calculating error\n",
    "        Error = np.square(Target[:,Train_seq[i]].reshape(NumOutput,1) - Output) / 2\n",
    "\n",
    "        # calculating rate of change of error w.r.t weight between hidden and output layer\n",
    "        Error_wrt_output = -(Target[:,Train_seq[i]].reshape(NumOutput,1) - Output)\n",
    "        Output_wrt_outputLayer_LinearTransform = np.multiply(Output, (1 - Output))\n",
    "        OutputLayer_LinearTransform_wrt_weights_hidden_output = Hidden\n",
    "\n",
    "        Error_wrt_weights_hidden_output = np.dot(OutputLayer_LinearTransform_wrt_weights_hidden_output,\n",
    "                                                 (Error_wrt_output * Output_wrt_outputLayer_LinearTransform).T,)\n",
    "\n",
    "        # calculating rate of change of error w.r.t weights between input and hidden layer\n",
    "        OutputLayer_LinearTransform_wrt_hiddenLayer_activations = weights_hidden_output\n",
    "        HiddenLayer_activations_wrt_hiddenLayer_linearTransform = np.multiply(Hidden, (1 - Hidden))\n",
    "        HiddenLayer_linearTransform_wrt_weights_input_hidden = Input[:,Train_seq[i]].reshape(NumInput,1)\n",
    "        Error_wrt_weights_input_hidden = np.dot(HiddenLayer_linearTransform_wrt_weights_input_hidden,\n",
    "            (HiddenLayer_activations_wrt_hiddenLayer_linearTransform\n",
    "                * np.dot(OutputLayer_LinearTransform_wrt_hiddenLayer_activations,\n",
    "                (Output_wrt_outputLayer_LinearTransform * Error_wrt_output),)).T,)\n",
    "\n",
    "        # updating the weights\n",
    "        weights_hidden_output = weights_hidden_output - alpha * Error_wrt_weights_hidden_output\n",
    "        weights_input_hidden = weights_input_hidden - alpha * Error_wrt_weights_input_hidden\n",
    "\n",
    "    # print error at every 100th epoch\n",
    "    epoch_loss = np.average(Error)\n",
    "    if epoch % 60 == 0: #ตรวจสอบค่าในตัวแปร epoch ว่าเป็นจำนวนเต็ม\n",
    "        print(f\"Error at epoch {epoch} is {epoch_loss:.10f}\") #แสดงผลลัพธ์เป็นทศนิยม 10 ตำแหน่ง\n",
    "\n",
    "    # appending the error of each epoch\n",
    "    losses.append(epoch_loss)"
   ]
  },
  {
   "cell_type": "code",
   "execution_count": 37,
   "id": "117c85e0-fe4c-4745-a5af-e1301f639cd3",
   "metadata": {},
   "outputs": [
    {
     "data": {
      "text/plain": [
       "[<matplotlib.lines.Line2D at 0x7f7c21bfd8e0>]"
      ]
     },
     "execution_count": 37,
     "metadata": {},
     "output_type": "execute_result"
    },
    {
     "data": {
      "image/png": "[encoded data removed]",
      "text/plain": [
       "<Figure size 432x288 with 1 Axes>"
      ]
     },
     "metadata": {
      "needs_background": "light"
     },
     "output_type": "display_data"
    }
   ],
   "source": [
    "# visualizing the error after each epoch\n",
    "import matplotlib.pyplot as plt\n",
    "plt.plot(np.arange(1, epochs + 1), np.array(losses))"
   ]
  },
  {
   "cell_type": "markdown",
   "id": "e12de4a8-bc03-4a42-b20a-18a986e8de43",
   "metadata": {},
   "source": [
    "----\n",
    "### Test the model \n",
    "เมื่อกระบวนการ Train (ปรับปรุง weight)เสร็จสิ้น จนเป็นที่พอใจแล้วขั้นตอนต่อไปคือการทดสอบ model  \n",
    "ให้ทำการโหลด Test set เข้ามาทดสอบ\n"
   ]
  },
  {
   "cell_type": "code",
   "execution_count": 38,
   "id": "0814a65c-ac00-4c3b-9c1b-f78e35fbdecf",
   "metadata": {},
   "outputs": [
    {
     "name": "stdout",
     "output_type": "stream",
     "text": [
      "Confusion Matrix (row=Actual, col=Predicted)\n",
      "[[190   0]\n",
      " [  0 153]]\n",
      "accuracy = 100.00%\n"
     ]
    }
   ],
   "source": [
    "Average = np.zeros((4),dtype='i')\n",
    "\n",
    "\n",
    "Input = Input_Test.T\n",
    "Target = Target_Test.T\n",
    "    \n",
    "#########################\n",
    "## Forward Propogation ##\n",
    "#########################\n",
    "# calculating hidden layer activations\n",
    "Hidden = np.dot(weights_input_hidden.T,Input)\n",
    "Hidden = sigmoid(Hidden)\n",
    "\n",
    "# calculating the output\n",
    "Output = np.dot(weights_hidden_output.T, Hidden)\n",
    "Output = sigmoid(Output)\n",
    "\n",
    "\n",
    "#check ผล\n",
    "Class_Output = Output.argmax(axis=0)\n",
    "Class_Target = Target.argmax(axis=0)\n",
    "correct = 0\n",
    "miss = 0\n",
    "#confusion matrix (row=Actual, col=Predicted)\n",
    "conf_matrix = np.zeros((NumOutput,NumOutput),dtype='i')\n",
    "for i in range(NumTest):\n",
    "    if Class_Output[i] == Class_Target[i]:\n",
    "        correct += 1\n",
    "    else:\n",
    "        miss += 1\n",
    "    conf_matrix[Class_Target[i]][Class_Output[i]] += 1\n",
    "print('Confusion Matrix (row=Actual, col=Predicted)')\n",
    "print(conf_matrix)\n",
    "print('accuracy = {0:.2f}%'.format((correct/NumTest)*100))\n",
    "Average[0] = (correct/NumTest)*100"
   ]
  },
  {
   "cell_type": "markdown",
   "id": "d57157c5",
   "metadata": {},
   "source": [
    "## Fold 3"
   ]
  },
  {
   "cell_type": "code",
   "execution_count": 39,
   "id": "cf12ff30",
   "metadata": {},
   "outputs": [
    {
     "name": "stdout",
     "output_type": "stream",
     "text": [
      "Number of Train data:  1029\n",
      "Number of Test data:  343\n"
     ]
    }
   ],
   "source": [
    "# กำหนด Train Set และ Test set\n",
    "NumTest = 0\n",
    "NumTrain = 0\n",
    "for i in range(NumData):\n",
    "    #round 2 fold 1,2,4 เป็น train set และ fold3 เป็น test set\n",
    "    if (i%4) == 2:\n",
    "        Input_Test[NumTest] = Input_array[i]\n",
    "        Target_Test[NumTest] = Target_array[i]\n",
    "        NumTest += 1\n",
    "    else:\n",
    "        Input_Train[NumTrain] = Input_array[i]\n",
    "        Target_Train[NumTrain] = Target_array[i]\n",
    "        NumTrain += 1\n",
    "print('Number of Train data: ',NumTrain)\n",
    "print('Number of Test data: ',NumTest)\n",
    "\n",
    "np.random.seed(14) \n",
    "Input = Input_Train.T\n",
    "Target = Target_Train.T"
   ]
  },
  {
   "cell_type": "code",
   "execution_count": 40,
   "id": "f9358c36",
   "metadata": {},
   "outputs": [],
   "source": [
    "# จากข้างต้นทั้งหมด สรุปรวมได้ดังนี้\n",
    "# กำหนดขนาดของ Network\n",
    "NumInput = 4\n",
    "#Number of Hidden Layer = 1\n",
    "NumHidden = 4\n",
    "NumOutput = 2\n",
    "# กำหนดค่าเริ่มต้นของ Weight\n",
    "weights_input_hidden = np.random.uniform(size=(NumInput,NumHidden))\n",
    "weights_hidden_output = np.random.uniform(size=(NumHidden, NumOutput))\n",
    "# กำหนดค่า learning rate\n",
    "alpha = 0.01\n",
    "\n",
    "\n",
    "# กำหนด Acitvate function ที่จะนำมาใช้\n",
    "def sigmoid(x):\n",
    "    return 1 / (1 + np.exp(-x))\n",
    "\n",
    "# กำหนดจำนวน Epoch\n",
    "epochs = 300"
   ]
  },
  {
   "cell_type": "code",
   "execution_count": 41,
   "id": "c1581a89",
   "metadata": {},
   "outputs": [
    {
     "name": "stdout",
     "output_type": "stream",
     "text": [
      "Error at epoch 0 is 0.0496340768\n",
      "Error at epoch 60 is 0.0020960147\n",
      "Error at epoch 120 is 0.0021469314\n",
      "Error at epoch 180 is 0.0017382033\n",
      "Error at epoch 240 is 0.0010111533\n"
     ]
    }
   ],
   "source": [
    "losses = []\n",
    "for epoch in range(epochs):\n",
    "    # random ลำดับของ input ที่จะถูกป้อนเข้า nerual net เพื่อใช้ในการ train\n",
    "    Train_seq = np.random.permutation(NumTrain)\n",
    "    \n",
    "    # Start Train\n",
    "    for i in range(NumTrain):\n",
    "    \n",
    "        #########################\n",
    "        ## Forward Propogation ##\n",
    "        #########################\n",
    "        # calculating hidden layer activations\n",
    "        Hidden = np.dot(weights_input_hidden.T,Input[:,Train_seq[i]].reshape(NumInput,1) )\n",
    "        Hidden = sigmoid(Hidden)\n",
    "\n",
    "        # calculating the output\n",
    "        Output = np.dot(weights_hidden_output.T, Hidden)\n",
    "        Output = sigmoid(Output)\n",
    "        \n",
    "        ##########################\n",
    "        ## Backward Propagation ##\n",
    "        ##########################\n",
    "        # calculating error\n",
    "        Error = np.square(Target[:,Train_seq[i]].reshape(NumOutput,1) - Output) / 2\n",
    "\n",
    "        # calculating rate of change of error w.r.t weight between hidden and output layer\n",
    "        Error_wrt_output = -(Target[:,Train_seq[i]].reshape(NumOutput,1) - Output)\n",
    "        Output_wrt_outputLayer_LinearTransform = np.multiply(Output, (1 - Output))\n",
    "        OutputLayer_LinearTransform_wrt_weights_hidden_output = Hidden\n",
    "\n",
    "        Error_wrt_weights_hidden_output = np.dot(OutputLayer_LinearTransform_wrt_weights_hidden_output,\n",
    "                                                 (Error_wrt_output * Output_wrt_outputLayer_LinearTransform).T,)\n",
    "\n",
    "        # calculating rate of change of error w.r.t weights between input and hidden layer\n",
    "        OutputLayer_LinearTransform_wrt_hiddenLayer_activations = weights_hidden_output\n",
    "        HiddenLayer_activations_wrt_hiddenLayer_linearTransform = np.multiply(Hidden, (1 - Hidden))\n",
    "        HiddenLayer_linearTransform_wrt_weights_input_hidden = Input[:,Train_seq[i]].reshape(NumInput,1)\n",
    "        Error_wrt_weights_input_hidden = np.dot(HiddenLayer_linearTransform_wrt_weights_input_hidden,\n",
    "            (HiddenLayer_activations_wrt_hiddenLayer_linearTransform\n",
    "                * np.dot(OutputLayer_LinearTransform_wrt_hiddenLayer_activations,\n",
    "                (Output_wrt_outputLayer_LinearTransform * Error_wrt_output),)).T,)\n",
    "\n",
    "        # updating the weights\n",
    "        weights_hidden_output = weights_hidden_output - alpha * Error_wrt_weights_hidden_output\n",
    "        weights_input_hidden = weights_input_hidden - alpha * Error_wrt_weights_input_hidden\n",
    "\n",
    "    # print error at every 100th epoch\n",
    "    epoch_loss = np.average(Error)\n",
    "    if epoch % 60 == 0: #ตรวจสอบค่าในตัวแปร epoch ว่าเป็นจำนวนเต็ม\n",
    "        print(f\"Error at epoch {epoch} is {epoch_loss:.10f}\") ##แสดงผลลัพธ์เป็นทศนิยม 10 ตำแหน่ง\n",
    "\n",
    "    # appending the error of each epoch\n",
    "    losses.append(epoch_loss)"
   ]
  },
  {
   "cell_type": "code",
   "execution_count": 42,
   "id": "ec55d6d1",
   "metadata": {},
   "outputs": [
    {
     "data": {
      "text/plain": [
       "[<matplotlib.lines.Line2D at 0x7f7c21d5a160>]"
      ]
     },
     "execution_count": 42,
     "metadata": {},
     "output_type": "execute_result"
    },
    {
     "data": {
      "image/png": "[encoded data removed]",
      "text/plain": [
       "<Figure size 432x288 with 1 Axes>"
      ]
     },
     "metadata": {
      "needs_background": "light"
     },
     "output_type": "display_data"
    }
   ],
   "source": [
    "# visualizing the error after each epoch\n",
    "import matplotlib.pyplot as plt\n",
    "plt.plot(np.arange(1, epochs + 1), np.array(losses))"
   ]
  },
  {
   "cell_type": "code",
   "execution_count": 43,
   "id": "08157457",
   "metadata": {},
   "outputs": [
    {
     "name": "stdout",
     "output_type": "stream",
     "text": [
      "Confusion Matrix (row=Actual, col=Predicted)\n",
      "[[190   0]\n",
      " [  0 153]]\n",
      "accuracy = 100.00%\n"
     ]
    }
   ],
   "source": [
    "Input = Input_Test.T\n",
    "Target = Target_Test.T\n",
    "    \n",
    "#########################\n",
    "## Forward Propogation ##\n",
    "#########################\n",
    "# calculating hidden layer activations\n",
    "Hidden = np.dot(weights_input_hidden.T,Input)\n",
    "Hidden = sigmoid(Hidden)\n",
    "\n",
    "# calculating the output\n",
    "Output = np.dot(weights_hidden_output.T, Hidden)\n",
    "Output = sigmoid(Output)\n",
    "\n",
    "\n",
    "#check ผล\n",
    "Class_Output = Output.argmax(axis=0)\n",
    "Class_Target = Target.argmax(axis=0)\n",
    "correct = 0\n",
    "miss = 0\n",
    "#confusion matrix (row=Actual, col=Predicted)\n",
    "conf_matrix = np.zeros((NumOutput,NumOutput),dtype='i')\n",
    "for i in range(NumTest):\n",
    "    if Class_Output[i] == Class_Target[i]:\n",
    "        correct += 1\n",
    "    else:\n",
    "        miss += 1\n",
    "    conf_matrix[Class_Target[i]][Class_Output[i]] += 1\n",
    "print('Confusion Matrix (row=Actual, col=Predicted)')\n",
    "print(conf_matrix)\n",
    "print('accuracy = {0:.2f}%'.format((correct/NumTest)*100)) #คำนวณเป็นเปอร์เซ็น\n",
    "Average[1] = (correct/NumTest)*100 #นำค่าที่ได้เก็บไว้ Average"
   ]
  },
  {
   "cell_type": "markdown",
   "id": "428ee56c",
   "metadata": {},
   "source": [
    "## Fold 2"
   ]
  },
  {
   "cell_type": "code",
   "execution_count": 44,
   "id": "ed150637",
   "metadata": {},
   "outputs": [
    {
     "name": "stdout",
     "output_type": "stream",
     "text": [
      "Number of Train data:  1029\n",
      "Number of Test data:  343\n"
     ]
    }
   ],
   "source": [
    "# กำหนด Train Set และ Test set\n",
    "NumTest = 0\n",
    "NumTrain = 0\n",
    "for i in range(NumData):\n",
    "    #round 3 fold 1,3,4 เป็น train set และ fold2 เป็น test set\n",
    "    if (i%4) == 1:\n",
    "        Input_Test[NumTest] = Input_array[i]\n",
    "        Target_Test[NumTest] = Target_array[i]\n",
    "        NumTest += 1\n",
    "    else:\n",
    "        Input_Train[NumTrain] = Input_array[i]\n",
    "        Target_Train[NumTrain] = Target_array[i]\n",
    "        NumTrain += 1\n",
    "print('Number of Train data: ',NumTrain)\n",
    "print('Number of Test data: ',NumTest)\n",
    "\n",
    "np.random.seed(14)\n",
    "Input = Input_Train.T\n",
    "Target = Target_Train.T"
   ]
  },
  {
   "cell_type": "code",
   "execution_count": 45,
   "id": "7c82f4f0",
   "metadata": {},
   "outputs": [],
   "source": [
    "# จากข้างต้นทั้งหมด สรุปรวมได้ดังนี้\n",
    "# กำหนดขนาดของ Network\n",
    "NumInput = 4\n",
    "#Number of Hidden Layer = 1\n",
    "NumHidden = 4\n",
    "NumOutput = 2\n",
    "# กำหนดค่าเริ่มต้นของ Weight\n",
    "weights_input_hidden = np.random.uniform(size=(NumInput,NumHidden))\n",
    "weights_hidden_output = np.random.uniform(size=(NumHidden, NumOutput))\n",
    "# กำหนดค่า learning rate\n",
    "alpha = 0.01\n",
    "\n",
    "\n",
    "# กำหนด Acitvate function ที่จะนำมาใช้\n",
    "def sigmoid(x):\n",
    "    return 1 / (1 + np.exp(-x))\n",
    "\n",
    "# กำหนดจำนวน Epoch\n",
    "epochs = 300"
   ]
  },
  {
   "cell_type": "code",
   "execution_count": 46,
   "id": "945e5fab",
   "metadata": {},
   "outputs": [
    {
     "name": "stdout",
     "output_type": "stream",
     "text": [
      "Error at epoch 0 is 0.0501831008\n",
      "Error at epoch 60 is 0.0003292344\n",
      "Error at epoch 120 is 0.0021547059\n",
      "Error at epoch 180 is 0.0017442882\n",
      "Error at epoch 240 is 0.0000462513\n"
     ]
    }
   ],
   "source": [
    "losses = []\n",
    "for epoch in range(epochs):\n",
    "    # random ลำดับของ input ที่จะถูกป้อนเข้า nerual net เพื่อใช้ในการ train\n",
    "    Train_seq = np.random.permutation(NumTrain)\n",
    "    \n",
    "    # Start Train\n",
    "    for i in range(NumTrain):\n",
    "    \n",
    "        #########################\n",
    "        ## Forward Propogation ##\n",
    "        #########################\n",
    "        # calculating hidden layer activations\n",
    "        Hidden = np.dot(weights_input_hidden.T,Input[:,Train_seq[i]].reshape(NumInput,1) )\n",
    "        Hidden = sigmoid(Hidden)\n",
    "\n",
    "        # calculating the output\n",
    "        Output = np.dot(weights_hidden_output.T, Hidden)\n",
    "        Output = sigmoid(Output)\n",
    "        \n",
    "        ##########################\n",
    "        ## Backward Propagation ##\n",
    "        ##########################\n",
    "        # calculating error\n",
    "        Error = np.square(Target[:,Train_seq[i]].reshape(NumOutput,1) - Output) / 2\n",
    "\n",
    "        # calculating rate of change of error w.r.t weight between hidden and output layer\n",
    "        Error_wrt_output = -(Target[:,Train_seq[i]].reshape(NumOutput,1) - Output)\n",
    "        Output_wrt_outputLayer_LinearTransform = np.multiply(Output, (1 - Output))\n",
    "        OutputLayer_LinearTransform_wrt_weights_hidden_output = Hidden\n",
    "\n",
    "        Error_wrt_weights_hidden_output = np.dot(OutputLayer_LinearTransform_wrt_weights_hidden_output,\n",
    "                                                 (Error_wrt_output * Output_wrt_outputLayer_LinearTransform).T,)\n",
    "\n",
    "        # calculating rate of change of error w.r.t weights between input and hidden layer\n",
    "        OutputLayer_LinearTransform_wrt_hiddenLayer_activations = weights_hidden_output\n",
    "        HiddenLayer_activations_wrt_hiddenLayer_linearTransform = np.multiply(Hidden, (1 - Hidden))\n",
    "        HiddenLayer_linearTransform_wrt_weights_input_hidden = Input[:,Train_seq[i]].reshape(NumInput,1)\n",
    "        Error_wrt_weights_input_hidden = np.dot(HiddenLayer_linearTransform_wrt_weights_input_hidden,\n",
    "            (HiddenLayer_activations_wrt_hiddenLayer_linearTransform\n",
    "                * np.dot(OutputLayer_LinearTransform_wrt_hiddenLayer_activations,\n",
    "                (Output_wrt_outputLayer_LinearTransform * Error_wrt_output),)).T,)\n",
    "\n",
    "        # updating the weights\n",
    "        weights_hidden_output = weights_hidden_output - alpha * Error_wrt_weights_hidden_output\n",
    "        weights_input_hidden = weights_input_hidden - alpha * Error_wrt_weights_input_hidden\n",
    "\n",
    "    # print error at every 100th epoch\n",
    "    epoch_loss = np.average(Error)\n",
    "    if epoch % 60 == 0:\n",
    "        print(f\"Error at epoch {epoch} is {epoch_loss:.10f}\")\n",
    "\n",
    "    # appending the error of each epoch\n",
    "    losses.append(epoch_loss)"
   ]
  },
  {
   "cell_type": "code",
   "execution_count": 47,
   "id": "6668703a",
   "metadata": {},
   "outputs": [
    {
     "data": {
      "text/plain": [
       "[<matplotlib.lines.Line2D at 0x7f7c21dc4bb0>]"
      ]
     },
     "execution_count": 47,
     "metadata": {},
     "output_type": "execute_result"
    },
    {
     "data": {
      "image/png": "[encoded data removed]",
      "text/plain": [
       "<Figure size 432x288 with 1 Axes>"
      ]
     },
     "metadata": {
      "needs_background": "light"
     },
     "output_type": "display_data"
    }
   ],
   "source": [
    "# visualizing the error after each epoch\n",
    "import matplotlib.pyplot as plt\n",
    "plt.plot(np.arange(1, epochs + 1), np.array(losses))"
   ]
  },
  {
   "cell_type": "code",
   "execution_count": 48,
   "id": "9f862b01",
   "metadata": {},
   "outputs": [
    {
     "name": "stdout",
     "output_type": "stream",
     "text": [
      "Confusion Matrix (row=Actual, col=Predicted)\n",
      "[[191   0]\n",
      " [  0 152]]\n",
      "accuracy = 100.00%\n"
     ]
    }
   ],
   "source": [
    "Input = Input_Test.T\n",
    "Target = Target_Test.T\n",
    "    \n",
    "#########################\n",
    "## Forward Propogation ##\n",
    "#########################\n",
    "# calculating hidden layer activations\n",
    "Hidden = np.dot(weights_input_hidden.T,Input)\n",
    "Hidden = sigmoid(Hidden)\n",
    "\n",
    "# calculating the output\n",
    "Output = np.dot(weights_hidden_output.T, Hidden)\n",
    "Output = sigmoid(Output)\n",
    "\n",
    "\n",
    "#check ผล\n",
    "Class_Output = Output.argmax(axis=0)\n",
    "Class_Target = Target.argmax(axis=0)\n",
    "correct = 0\n",
    "miss = 0\n",
    "#confusion matrix (row=Actual, col=Predicted)\n",
    "conf_matrix = np.zeros((NumOutput,NumOutput),dtype='i')\n",
    "for i in range(NumTest):\n",
    "    if Class_Output[i] == Class_Target[i]:\n",
    "        correct += 1\n",
    "    else:\n",
    "        miss += 1\n",
    "    conf_matrix[Class_Target[i]][Class_Output[i]] += 1\n",
    "print('Confusion Matrix (row=Actual, col=Predicted)')\n",
    "print(conf_matrix)\n",
    "print('accuracy = {0:.2f}%'.format((correct/NumTest)*100))\n",
    "Average[2] = (correct/NumTest)*100"
   ]
  },
  {
   "cell_type": "markdown",
   "id": "710ea535",
   "metadata": {},
   "source": [
    "## Fold 1"
   ]
  },
  {
   "cell_type": "code",
   "execution_count": 49,
   "id": "726914de",
   "metadata": {},
   "outputs": [
    {
     "name": "stdout",
     "output_type": "stream",
     "text": [
      "Number of Train data:  1029\n",
      "Number of Test data:  343\n"
     ]
    }
   ],
   "source": [
    "# กำหนด Train Set และ Test set\n",
    "NumTest = 0\n",
    "NumTrain = 0\n",
    "for i in range(NumData):\n",
    "    #round 4 fold 2,3,4 เป็น train set และ fold1 เป็น test set\n",
    "    if (i%4) == 0:\n",
    "        Input_Test[NumTest] = Input_array[i]\n",
    "        Target_Test[NumTest] = Target_array[i]\n",
    "        NumTest += 1\n",
    "    else:\n",
    "        Input_Train[NumTrain] = Input_array[i]\n",
    "        Target_Train[NumTrain] = Target_array[i]\n",
    "        NumTrain += 1\n",
    "print('Number of Train data: ',NumTrain)\n",
    "print('Number of Test data: ',NumTest)\n",
    "\n",
    "np.random.seed(14)\n",
    "Input = Input_Train.T\n",
    "Target = Target_Train.T"
   ]
  },
  {
   "cell_type": "code",
   "execution_count": 50,
   "id": "756c0007",
   "metadata": {},
   "outputs": [],
   "source": [
    "# จากข้างต้นทั้งหมด สรุปรวมได้ดังนี้\n",
    "# กำหนดขนาดของ Network\n",
    "NumInput = 4\n",
    "#Number of Hidden Layer = 1\n",
    "NumHidden = 4\n",
    "NumOutput = 2\n",
    "# กำหนดค่าเริ่มต้นของ Weight\n",
    "weights_input_hidden = np.random.uniform(size=(NumInput,NumHidden))\n",
    "weights_hidden_output = np.random.uniform(size=(NumHidden, NumOutput))\n",
    "# กำหนดค่า learning rate\n",
    "alpha = 0.01\n",
    "\n",
    "\n",
    "# กำหนด Acitvate function ที่จะนำมาใช้\n",
    "def sigmoid(x):\n",
    "    return 1 / (1 + np.exp(-x))\n",
    "\n",
    "# กำหนดจำนวน Epoch\n",
    "epochs = 300"
   ]
  },
  {
   "cell_type": "code",
   "execution_count": 51,
   "id": "f28e694b",
   "metadata": {},
   "outputs": [
    {
     "name": "stdout",
     "output_type": "stream",
     "text": [
      "Error at epoch 0 is 0.0515438932\n",
      "Error at epoch 60 is 0.0001407740\n",
      "Error at epoch 120 is 0.0022748954\n",
      "Error at epoch 180 is 0.0018234443\n",
      "Error at epoch 240 is 0.0000541729\n"
     ]
    }
   ],
   "source": [
    "losses = []\n",
    "for epoch in range(epochs):\n",
    "    # random ลำดับของ input ที่จะถูกป้อนเข้า nerual net เพื่อใช้ในการ train\n",
    "    Train_seq = np.random.permutation(NumTrain)\n",
    "    \n",
    "    # Start Train\n",
    "    for i in range(NumTrain):\n",
    "    \n",
    "        #########################\n",
    "        ## Forward Propogation ##\n",
    "        #########################\n",
    "        # calculating hidden layer activations\n",
    "        Hidden = np.dot(weights_input_hidden.T,Input[:,Train_seq[i]].reshape(NumInput,1) )\n",
    "        Hidden = sigmoid(Hidden)\n",
    "\n",
    "        # calculating the output\n",
    "        Output = np.dot(weights_hidden_output.T, Hidden)\n",
    "        Output = sigmoid(Output)\n",
    "        \n",
    "        ##########################\n",
    "        ## Backward Propagation ##\n",
    "        ##########################\n",
    "        # calculating error\n",
    "        Error = np.square(Target[:,Train_seq[i]].reshape(NumOutput,1) - Output) / 2\n",
    "\n",
    "        # calculating rate of change of error w.r.t weight between hidden and output layer\n",
    "        Error_wrt_output = -(Target[:,Train_seq[i]].reshape(NumOutput,1) - Output)\n",
    "        Output_wrt_outputLayer_LinearTransform = np.multiply(Output, (1 - Output))\n",
    "        OutputLayer_LinearTransform_wrt_weights_hidden_output = Hidden\n",
    "\n",
    "        Error_wrt_weights_hidden_output = np.dot(OutputLayer_LinearTransform_wrt_weights_hidden_output,\n",
    "                                                 (Error_wrt_output * Output_wrt_outputLayer_LinearTransform).T,)\n",
    "\n",
    "        # calculating rate of change of error w.r.t weights between input and hidden layer\n",
    "        OutputLayer_LinearTransform_wrt_hiddenLayer_activations = weights_hidden_output\n",
    "        HiddenLayer_activations_wrt_hiddenLayer_linearTransform = np.multiply(Hidden, (1 - Hidden))\n",
    "        HiddenLayer_linearTransform_wrt_weights_input_hidden = Input[:,Train_seq[i]].reshape(NumInput,1)\n",
    "        Error_wrt_weights_input_hidden = np.dot(HiddenLayer_linearTransform_wrt_weights_input_hidden,\n",
    "            (HiddenLayer_activations_wrt_hiddenLayer_linearTransform\n",
    "                * np.dot(OutputLayer_LinearTransform_wrt_hiddenLayer_activations,\n",
    "                (Output_wrt_outputLayer_LinearTransform * Error_wrt_output),)).T,)\n",
    "\n",
    "        # updating the weights\n",
    "        weights_hidden_output = weights_hidden_output - alpha * Error_wrt_weights_hidden_output\n",
    "        weights_input_hidden = weights_input_hidden - alpha * Error_wrt_weights_input_hidden\n",
    "\n",
    "    # print error at every 100th epoch\n",
    "    epoch_loss = np.average(Error)\n",
    "    if epoch % 60 == 0:\n",
    "        print(f\"Error at epoch {epoch} is {epoch_loss:.10f}\")\n",
    "\n",
    "    # appending the error of each epoch\n",
    "    losses.append(epoch_loss)"
   ]
  },
  {
   "cell_type": "code",
   "execution_count": 52,
   "id": "d478d354",
   "metadata": {},
   "outputs": [
    {
     "data": {
      "text/plain": [
       "[<matplotlib.lines.Line2D at 0x7f7c416822e0>]"
      ]
     },
     "execution_count": 52,
     "metadata": {},
     "output_type": "execute_result"
    },
    {
     "data": {
      "image/png": "[encoded data removed]",
      "text/plain": [
       "<Figure size 432x288 with 1 Axes>"
      ]
     },
     "metadata": {
      "needs_background": "light"
     },
     "output_type": "display_data"
    }
   ],
   "source": [
    "# visualizing the error after each epoch\n",
    "import matplotlib.pyplot as plt\n",
    "plt.plot(np.arange(1, epochs + 1), np.array(losses))"
   ]
  },
  {
   "cell_type": "code",
   "execution_count": 53,
   "id": "91e58462",
   "metadata": {},
   "outputs": [
    {
     "name": "stdout",
     "output_type": "stream",
     "text": [
      "Confusion Matrix (row=Actual, col=Predicted)\n",
      "[[191   0]\n",
      " [  0 152]]\n",
      "accuracy = 100.00%\n"
     ]
    }
   ],
   "source": [
    "Input = Input_Test.T\n",
    "Target = Target_Test.T\n",
    "    \n",
    "#########################\n",
    "## Forward Propogation ##\n",
    "#########################\n",
    "# calculating hidden layer activations\n",
    "Hidden = np.dot(weights_input_hidden.T,Input)\n",
    "Hidden = sigmoid(Hidden)\n",
    "\n",
    "# calculating the output\n",
    "Output = np.dot(weights_hidden_output.T, Hidden)\n",
    "Output = sigmoid(Output)\n",
    "\n",
    "\n",
    "#check ผล\n",
    "Class_Output = Output.argmax(axis=0)\n",
    "Class_Target = Target.argmax(axis=0)\n",
    "correct = 0\n",
    "miss = 0\n",
    "#confusion matrix (row=Actual, col=Predicted)\n",
    "conf_matrix = np.zeros((NumOutput,NumOutput),dtype='i')\n",
    "for i in range(NumTest):\n",
    "    if Class_Output[i] == Class_Target[i]:\n",
    "        correct += 1\n",
    "    else:\n",
    "        miss += 1\n",
    "    conf_matrix[Class_Target[i]][Class_Output[i]] += 1\n",
    "print('Confusion Matrix (row=Actual, col=Predicted)')\n",
    "print(conf_matrix)\n",
    "print('accuracy = {0:.2f}%'.format((correct/NumTest)*100))\n",
    "Average[3] = (correct/NumTest)*100"
   ]
  },
  {
   "cell_type": "code",
   "execution_count": 54,
   "id": "2cf4268d",
   "metadata": {},
   "outputs": [
    {
     "name": "stdout",
     "output_type": "stream",
     "text": [
      "Average accuracy of model :  100.0 %\n"
     ]
    }
   ],
   "source": [
    "print(\"Average accuracy of model : \",np.average(Average),\"%\")"
   ]
  }
 ],
 "metadata": {
  "kernelspec": {
   "display_name": "Python 3",
   "language": "python",
   "name": "python3"
  },
  "language_info": {
   "codemirror_mode": {
    "name": "ipython",
    "version": 3
   },
   "file_extension": ".py",
   "mimetype": "text/x-python",
   "name": "python",
   "nbconvert_exporter": "python",
   "pygments_lexer": "ipython3",
   "version": "3.8.8"
  }
 },
 "nbformat": 4,
 "nbformat_minor": 5
}
